{
 "cells": [
  {
   "cell_type": "markdown",
   "metadata": {},
   "source": [
    "# Assignment 0: Getting to know the workflow\n",
    "\n",
    "Welcome to Math 307, specifically the python workbook component. This aparatus is new to us as well as to you! We expect a few growing-pains at the start of term as we all familiarize ourselves with the system. We also expect that once we're all in the swing of things, these notebooks will afford us a way to give you A LOT of feedback really QUICK! \n",
    "\n",
    "A reminder that every Wednesday at 6pm PST, Ethan White will run a python office hour to answer all questions related to the workflow of these notebooks. This first notebook is not for marks, but we highly recommend everyone complete it so that we find identify any problems when there are no marks on the line :) "
   ]
  },
  {
   "cell_type": "code",
   "execution_count": 5,
   "metadata": {},
   "outputs": [],
   "source": [
    "import numpy as np"
   ]
  },
  {
   "cell_type": "markdown",
   "metadata": {},
   "source": [
    "**Exercise 1**\n",
    "\n",
    "Create a variable $C$ and assign it the value 307."
   ]
  },
  {
   "cell_type": "code",
   "execution_count": 2,
   "metadata": {
    "nbgrader": {
     "grade": false,
     "grade_id": "cell-6a9b4111a311fc60",
     "locked": false,
     "schema_version": 3,
     "solution": true,
     "task": false
    }
   },
   "outputs": [],
   "source": [
    "C = 307"
   ]
  },
  {
   "cell_type": "markdown",
   "metadata": {},
   "source": [
    "After we ask you all a question, we'll perform multiple 'tests' on your answer to award as many part marks as possible, and provide as much feedback as possible. \n",
    "\n",
    "Feel free to deliberately answer this question wrong to trigger the different feedbacks. "
   ]
  },
  {
   "cell_type": "code",
   "execution_count": 4,
   "metadata": {
    "nbgrader": {
     "grade": true,
     "grade_id": "cell-ca45778045f0107c",
     "locked": true,
     "points": 1,
     "schema_version": 3,
     "solution": false,
     "task": false
    }
   },
   "outputs": [
    {
     "name": "stdout",
     "output_type": "stream",
     "text": [
      "Checkpoint 1 passed!\n"
     ]
    }
   ],
   "source": [
    "assert isinstance(C,int), \"Your C is not an integer\"\n",
    "print(\"Checkpoint 1.1 passed!\")"
   ]
  },
  {
   "cell_type": "code",
   "execution_count": 7,
   "metadata": {
    "nbgrader": {
     "grade": true,
     "grade_id": "cell-ff6a2ba9f355f1af",
     "locked": true,
     "points": 1,
     "schema_version": 3,
     "solution": false,
     "task": false
    }
   },
   "outputs": [
    {
     "name": "stdout",
     "output_type": "stream",
     "text": [
      "Checkpoint 2 passed!\n"
     ]
    }
   ],
   "source": [
    "assert np.isclose(C,307), \"You didn't give the right value to C\"\n",
    "print(\"Checkpoint 1.2 passed!\")"
   ]
  },
  {
   "cell_type": "markdown",
   "metadata": {},
   "source": [
    "**Exercise 2**\n",
    "\n",
    "Create the matrix \n",
    "\n",
    "$$\\begin{pmatrix} 3 & -5 \\\\ 2 & 1.6 \\end{pmatrix} $$\n",
    "\n",
    "and assign it to the variable $M$. "
   ]
  },
  {
   "cell_type": "code",
   "execution_count": 8,
   "metadata": {
    "nbgrader": {
     "grade": false,
     "grade_id": "cell-8bb67e8f6990f9f1",
     "locked": false,
     "schema_version": 3,
     "solution": true,
     "task": false
    }
   },
   "outputs": [],
   "source": [
    "M = np.array([[3,-5],[2,1.6]])"
   ]
  },
  {
   "cell_type": "markdown",
   "metadata": {},
   "source": [
    "Once again, feel free to make $M$ be the wrong answer to trigger some of the feedback as you complete the assignment... and then change it to the correct answer :) \n",
    "\n",
    "For this question, we will check that $M$ is an array for one mark, and that the array is $2 \\times 2$ for one mark, and we will also do a final 'hidden test' for two marks that checks that the whole matrix is correct. \n",
    "\n",
    "In assignments appearing throughout this term, some of the questions we give will have feedback you can immediately see (as you are completing the assignment), and some will have hidden tests, where you wont know if you got the right answer until after you have submitted the assignment back in Canvas, and we have graded it. "
   ]
  },
  {
   "cell_type": "code",
   "execution_count": 14,
   "metadata": {
    "nbgrader": {
     "grade": true,
     "grade_id": "cell-2ce390a29bbb3425",
     "locked": true,
     "points": 1,
     "schema_version": 3,
     "solution": false,
     "task": false
    }
   },
   "outputs": [
    {
     "name": "stdout",
     "output_type": "stream",
     "text": [
      "Checkpoint 2.1 passed!\n"
     ]
    }
   ],
   "source": [
    "assert isinstance(M,np.ndarray), \"M needs to be an array. Remember to import numpy\"\n",
    "print(\"Checkpoint 2.1 passed!\")"
   ]
  },
  {
   "cell_type": "code",
   "execution_count": 15,
   "metadata": {
    "nbgrader": {
     "grade": true,
     "grade_id": "cell-691b5a8c4460c786",
     "locked": true,
     "points": 1,
     "schema_version": 3,
     "solution": false,
     "task": false
    }
   },
   "outputs": [
    {
     "name": "stdout",
     "output_type": "stream",
     "text": [
      "Checkpoint 2.2 passed!\n"
     ]
    }
   ],
   "source": [
    "assert M.shape == (2,2), \"The dimensions of your array are incorrect.\"\n",
    "print(\"Checkpoint 2.2 passed!\")"
   ]
  },
  {
   "cell_type": "code",
   "execution_count": 17,
   "metadata": {
    "nbgrader": {
     "grade": true,
     "grade_id": "cell-999dc6e4cf7ae8c5",
     "locked": true,
     "points": 2,
     "schema_version": 3,
     "solution": false,
     "task": false
    }
   },
   "outputs": [
    {
     "name": "stdout",
     "output_type": "stream",
     "text": [
      "Checkpoint 2.3 passed!\n"
     ]
    }
   ],
   "source": [
    "### BEGIN HIDDEN TESTS\n",
    "\n",
    "assert np.allclose(M,np.array([[3,-5],[2,1.6]])), \"At least one of the entries of your matrix is wrong.\"\n",
    "print(\"Checkpoint 2.3 passed!\")\n",
    "\n",
    "### END HIDDEN TESTS"
   ]
  },
  {
   "cell_type": "markdown",
   "metadata": {},
   "source": [
    "*Exercise 3*\n",
    "\n",
    "Rank the following four numbers from smallest to largest. \n",
    "\n",
    "a) $\\pi$\n",
    "b) $2\\sqrt{3}$\n",
    "c) $\\frac{22}{7}$\n",
    "d) $3.14$\n",
    "\n",
    "Record your answer as a python list $L$, where each entry is a single-character string, for example ['a','b','c','d']. Remember to use quotes '' to create a string, rather than simply entrying the letter c. This example list is not in the correct order!"
   ]
  },
  {
   "cell_type": "code",
   "execution_count": 18,
   "metadata": {
    "nbgrader": {
     "grade": false,
     "grade_id": "cell-dc4814a9e89c49e0",
     "locked": false,
     "schema_version": 3,
     "solution": true,
     "task": false
    }
   },
   "outputs": [],
   "source": [
    "L = ['d','a','c','b']"
   ]
  },
  {
   "cell_type": "code",
   "execution_count": 20,
   "metadata": {
    "nbgrader": {
     "grade": true,
     "grade_id": "cell-6853910a118a2d3d",
     "locked": true,
     "points": 1,
     "schema_version": 3,
     "solution": false,
     "task": false
    }
   },
   "outputs": [
    {
     "name": "stdout",
     "output_type": "stream",
     "text": [
      "Checkpoint 3.1 passed!\n"
     ]
    }
   ],
   "source": [
    "assert isinstance(L,list), \"Make sure L is a list, created with square brackets [].\"\n",
    "print(\"Checkpoint 3.1 passed!\")"
   ]
  },
  {
   "cell_type": "code",
   "execution_count": 23,
   "metadata": {
    "nbgrader": {
     "grade": true,
     "grade_id": "cell-1fe91d961d08c0a7",
     "locked": true,
     "points": 1,
     "schema_version": 3,
     "solution": false,
     "task": false
    }
   },
   "outputs": [
    {
     "name": "stdout",
     "output_type": "stream",
     "text": [
      "Checkpoint 3.2 passed!\n"
     ]
    }
   ],
   "source": [
    "assert len(L) == 4, \"Make sure you list has length 4, one entry for 'a','b','c','d'\"\n",
    "print(\"Checkpoint 3.2 passed!\")"
   ]
  },
  {
   "cell_type": "code",
   "execution_count": 24,
   "metadata": {
    "nbgrader": {
     "grade": true,
     "grade_id": "cell-cdf2984714a88b93",
     "locked": true,
     "points": 1,
     "schema_version": 3,
     "solution": false,
     "task": false
    }
   },
   "outputs": [
    {
     "name": "stdout",
     "output_type": "stream",
     "text": [
      "Checkpoint 3.3 passed!\n"
     ]
    }
   ],
   "source": [
    "assert L[0] == 'd' and L[3] == 'b', \"You haven't identified the largest and smallest numbers correctly.\"\n",
    "print(\"Checkpoint 3.3 passed!\")\n"
   ]
  },
  {
   "cell_type": "code",
   "execution_count": 26,
   "metadata": {
    "nbgrader": {
     "grade": true,
     "grade_id": "cell-30f8c0adb31462ab",
     "locked": true,
     "points": 2,
     "schema_version": 3,
     "solution": false,
     "task": false
    }
   },
   "outputs": [
    {
     "name": "stdout",
     "output_type": "stream",
     "text": [
      "Checkpoint 3.4 passed!\n"
     ]
    }
   ],
   "source": [
    "\n",
    "### BEGIN HIDDEN TESTS\n",
    "\n",
    "assert L == ['d','a','c','b'], \"At least one of your numbers is out of order.\"\n",
    "print(\"Checkpoint 3.4 passed!\")\n",
    "\n",
    "### END HIDDEN TESTS"
   ]
  },
  {
   "cell_type": "markdown",
   "metadata": {},
   "source": [
    "Once again, there was a final test on $L$ that was hidden from you as you complete the assignment. Once your assignment has been returned to you, you'll find out if you ranked all the numbers in the correct order. "
   ]
  },
  {
   "cell_type": "code",
   "execution_count": null,
   "metadata": {},
   "outputs": [],
   "source": []
  }
 ],
 "metadata": {
  "celltoolbar": "Create Assignment",
  "kernelspec": {
   "display_name": "Python 3",
   "language": "python",
   "name": "python3"
  },
  "language_info": {
   "codemirror_mode": {
    "name": "ipython",
    "version": 3
   },
   "file_extension": ".py",
   "mimetype": "text/x-python",
   "name": "python",
   "nbconvert_exporter": "python",
   "pygments_lexer": "ipython3",
   "version": "3.6.5"
  }
 },
 "nbformat": 4,
 "nbformat_minor": 4
}
